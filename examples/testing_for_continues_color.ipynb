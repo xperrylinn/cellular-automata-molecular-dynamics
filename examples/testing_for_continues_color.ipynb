{
 "cells": [
  {
   "cell_type": "code",
   "execution_count": null,
   "id": "c2ebe589",
   "metadata": {},
   "outputs": [],
   "source": [
    "#try to added the input csvs and "
   ]
  },
  {
   "cell_type": "code",
   "execution_count": 1,
   "id": "4491454f",
   "metadata": {},
   "outputs": [
    {
     "data": {
      "text/plain": [
       "[[0, 0, 0, 0], [0, 1, 1, 0], [0, 1, 1, 0], [0, 0, 0, 0]]"
      ]
     },
     "execution_count": 1,
     "metadata": {},
     "output_type": "execute_result"
    }
   ],
   "source": [
    "list_=([[0,0,0,0],\n",
    "              [0,1,1,0],\n",
    "              [0,1,1,0],\n",
    "              [0,0,0,0]])\n",
    "list_"
   ]
  },
  {
   "cell_type": "code",
   "execution_count": 2,
   "id": "2a959e8c",
   "metadata": {},
   "outputs": [
    {
     "data": {
      "image/png": "[encoded data removed]",
      "text/plain": [
       "<Figure size 288x288 with 1 Axes>"
      ]
     },
     "metadata": {
      "needs_background": "light"
     },
     "output_type": "display_data"
    }
   ],
   "source": [
    "import matplotlib.pyplot as plt\n",
    "import numpy as np\n",
    "plt.matshow(list_, cmap=plt.get_cmap('Greens'), alpha=0.6)  # , alpha=0.3\n",
    "plt.show()"
   ]
  },
  {
   "cell_type": "code",
   "execution_count": 3,
   "id": "956503cf",
   "metadata": {},
   "outputs": [],
   "source": [
    "#testing for time elapsed and modify to the input "
   ]
  }
 ],
 "metadata": {
  "kernelspec": {
   "display_name": "Python 3",
   "language": "python",
   "name": "python3"
  },
  "language_info": {
   "codemirror_mode": {
    "name": "ipython",
    "version": 3
   },
   "file_extension": ".py",
   "mimetype": "text/x-python",
   "name": "python",
   "nbconvert_exporter": "python",
   "pygments_lexer": "ipython3",
   "version": "3.8.5"
  }
 },
 "nbformat": 4,
 "nbformat_minor": 5
}
